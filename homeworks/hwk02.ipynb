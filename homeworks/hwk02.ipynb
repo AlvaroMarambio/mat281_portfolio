{
 "cells": [
  {
   "cell_type": "markdown",
   "metadata": {},
   "source": [
    "# MAT281 - Tarea 2"
   ]
  },
  {
   "cell_type": "markdown",
   "metadata": {},
   "source": [
    "**Indicaciones**:\n",
    "\n",
    "* En los **Ejercicio 1-8** puedes utilizar tanto `matplotlib` como `altair` según te parezca más conveniente o cómodo, en ambos casos cada gráfico debe tener elementos mínimos como:\n",
    "    - Título\n",
    "    - Nombre de los ejes, leyendas, etc. en formato _amigable_/_humano_, por ejemplo, si la columna del dataframe en cuestión tiene por nombre `casos_confirmados` se espera que el eje del gráfico tenga por nombre `Casos confirmados`.\n",
    "    - Colores adecuados al tipo de datos.\n",
    "    - Un tamaño adecuado para ver con facilidad en una pantalla con resolución HD o FullHD.\n",
    "    - Cada vez que no se cumplan alguna de estos requerimientos se descontará __1 punto__ de la nota final.\n",
    "\n",
    "* Para el **Ejercicio 9** es obligación utilizar `altair`.\n",
    "* Cada ejercicio debe estar acompañado con una celda con comentarios o análisis que puedas desprender de los gráficos."
   ]
  },
  {
   "cell_type": "markdown",
   "metadata": {},
   "source": [
    "Clase 10-11-20 1:00 aprox\n",
    "Todos los graficos con titulos, escrbir bien etiquetas, usar bien colores(no como matlab), si pintas dos datos con el mismo color usar mapas\n",
    "de colores con mas colores"
   ]
  },
  {
   "cell_type": "code",
   "execution_count": null,
   "metadata": {},
   "outputs": [],
   "source": [
    "import numpy as np\n",
    "import pandas as pd\n",
    "import matplotlib.pyplot as plt\n",
    "import altair as alt\n",
    "import ipywidgets as widgets\n",
    "\n",
    "from datetime import date\n",
    "from ipywidgets import interactive, interact\n",
    "\n",
    "pd.set_option('display.max_columns', 999)\n",
    "#alt.data_transformers.enable('data_server')\n",
    "alt.data_transformers.disable_max_rows()\n",
    "#alt.themes.enable('opaque')\n",
    "\n",
    "%matplotlib inline"
   ]
  },
  {
   "cell_type": "markdown",
   "metadata": {},
   "source": [
    "**COVID-19 en Chile** \n",
    "\n",
    "En esta tarea exploraremos los datos de Covid-19 en Chile a profundidad. Las siguientes celdas cargarán los datos a utilizar en tu sesión. Es importante que leas la documentación de cada conjunto de datos para comprender las columnas."
   ]
  },
  {
   "cell_type": "code",
   "execution_count": null,
   "metadata": {},
   "outputs": [],
   "source": [
    "start_date = pd.to_datetime(\"2020-04-13\")"
   ]
  },
  {
   "cell_type": "code",
   "execution_count": null,
   "metadata": {},
   "outputs": [],
   "source": [
    "# https://github.com/MinCiencia/Datos-COVID19/tree/master/output/producto6\n",
    "confirmados = (\n",
    "    pd.read_csv(\"https://raw.githubusercontent.com/MinCiencia/Datos-COVID19/master/output/producto6/bulk/data.csv\")\n",
    "    .rename(columns=lambda x: x.lower().replace(\" \", \"_\"))\n",
    "    .assign(fecha=lambda x: pd.to_datetime(x[\"fecha\"]))\n",
    "    .loc[lambda x: x[\"fecha\"] >= start_date]\n",
    "    .dropna()\n",
    "    .astype({\"casos_confirmados\": np.float, \"tasa\": np.float})\n",
    ")\n",
    "confirmados.head()"
   ]
  },
  {
   "cell_type": "code",
   "execution_count": null,
   "metadata": {},
   "outputs": [],
   "source": [
    "# https://github.com/MinCiencia/Datos-COVID19/tree/master/output/producto19\n",
    "activos = (\n",
    "    pd.read_csv(\"https://raw.githubusercontent.com/MinCiencia/Datos-COVID19/master/output/producto19/CasosActivosPorComuna.csv\")\n",
    "    .rename(columns=lambda x: x.lower().replace(\" \", \"_\"))\n",
    "    .loc[lambda x: x[\"codigo_comuna\"].notnull()]\n",
    "    .melt(id_vars=[\"region\", \"codigo_region\", \"comuna\", \"codigo_comuna\", \"poblacion\"], var_name=\"fecha\", value_name=\"casos_activos\")\n",
    "    .assign(fecha=lambda x: pd.to_datetime(x[\"fecha\"]))\n",
    "    .loc[lambda x: x[\"fecha\"] >= start_date]\n",
    ")\n",
    "\n",
    "activos.head()"
   ]
  },
  {
   "cell_type": "code",
   "execution_count": null,
   "metadata": {},
   "outputs": [],
   "source": [
    "# https://github.com/MinCiencia/Datos-COVID19/tree/master/output/producto14\n",
    "fallecidos = (\n",
    "    pd.read_csv(\"https://raw.githubusercontent.com/MinCiencia/Datos-COVID19/master/output/producto14/FallecidosCumulativo.csv\")\n",
    "    .rename(columns=lambda x: x.lower().replace(\" \", \"_\"))\n",
    "    .melt(id_vars=[\"region\"], var_name=\"fecha\", value_name=\"fallecidos\")\n",
    "    .assign(\n",
    "        fecha=lambda x: pd.to_datetime(x[\"fecha\"]),\n",
    "    )\n",
    "    .loc[lambda x: x[\"fecha\"] >= start_date]\n",
    ")\n",
    "\n",
    "fallecidos.head()"
   ]
  },
  {
   "cell_type": "code",
   "execution_count": null,
   "metadata": {},
   "outputs": [],
   "source": [
    "# https://github.com/MinCiencia/Datos-COVID19/tree/master/output/producto10\n",
    "fallecidos_etareo = (\n",
    "    pd.read_csv(\"https://raw.githubusercontent.com/MinCiencia/Datos-COVID19/master/output/producto10/FallecidosEtario.csv\")\n",
    "    .rename(columns=lambda x: x.lower().replace(\" \", \"_\"))\n",
    "    .melt(id_vars=[\"grupo_de_edad\"], var_name=\"fecha\", value_name=\"fallecidos\")\n",
    "    .assign(\n",
    "        fecha=lambda x: pd.to_datetime(x[\"fecha\"]),\n",
    "        grupo_de_edad=lambda x: x[\"grupo_de_edad\"].str.replace(\"<=39\", \"0-39\")\n",
    "    )\n",
    "    .loc[lambda x: x[\"fecha\"] >= start_date]\n",
    ")\n",
    "\n",
    "fallecidos_etareo.tail(7)"
   ]
  },
  {
   "cell_type": "markdown",
   "metadata": {},
   "source": [
    "## Ejercicio 1\n",
    "\n",
    "(10 puntos)\n",
    "\n",
    "Mostrar cantidad de fallecidos a la fecha por cada grupo etáreo."
   ]
  },
  {
   "cell_type": "code",
   "execution_count": null,
   "metadata": {},
   "outputs": [],
   "source": [
    "alt.Chart(fallecidos_etareo).mark_bar().encode(  \n",
    "    x=alt.X('grupo_de_edad', axis=alt.Axis(title='Grupo Etario')),\n",
    "    y=alt.Y('fallecidos', axis=alt.Axis(title='Fallecidos')),\n",
    "    #color='grupo_de_edad:N',\n",
    "    color=alt.Color('grupo_de_edad:N',legend=alt.Legend(title=\"Grupo Etareo\"),scale=alt.Scale(scheme='brownbluegreen')),\n",
    "    tooltip=['grupo_de_edad','fallecidos'],\n",
    "    ).properties(\n",
    "    width=600,\n",
    "    height=500,\n",
    "    title=\"FALLECIDOS POR GRUPO ETARIO A LA FECHA\"\n",
    ")"
   ]
  },
  {
   "cell_type": "markdown",
   "metadata": {},
   "source": [
    "**Comentarios:** Al observar el gráfico nos damos cuenta que la mayor cantidad de fallecidos se encuentra en el grupo etario de los 70 a los 79 con 4339 fallecidos a 02 de noviembre. El segundo grupo con mayor cantidad de fallecidos es el de 80 a 89 años con 3991. Lo otro interesante es que el grupo de 0 a 39 años tiene una baja cantidad de fallecidos a pesar de ser el grupo con mayor rango (39 años y 4 veces mayor al resto) por lo que se puede inferir que el COVID-19 es menos agresivo con este grupo etario."
   ]
  },
  {
   "cell_type": "markdown",
   "metadata": {},
   "source": [
    "## Ejercicio 2\n",
    "\n",
    "(10 puntos)\n",
    "\n",
    "¿Qué tan variable es la población de las comunas de Chile? Considera utilizar un gráfico que resuma de buena forma la información sin agregar la variable de región o provincia."
   ]
  },
  {
   "cell_type": "code",
   "execution_count": null,
   "metadata": {},
   "outputs": [],
   "source": [
    "alt.Chart(activos).mark_bar().encode(\n",
    "    alt.X(\"comuna:O\",axis=alt.Axis(title='Comunas de Chile')),\n",
    "    y=alt.Y('poblacion',axis=alt.Axis(title='Población')),\n",
    "    color=alt.Color('poblacion:Q',legend=alt.Legend(title=\"Población\"),scale=alt.Scale(scheme='tealblues')),\n",
    "    tooltip=['comuna','poblacion'],\n",
    ").properties(\n",
    "    width=5000,\n",
    "    height=500,\n",
    "    title=\"VARIABILIDAD DE POBLACION SEGUN COMUNAS DE CHILE\"\n",
    ")"
   ]
  },
  {
   "cell_type": "markdown",
   "metadata": {},
   "source": [
    "**Comentarios:**  Se observa que la población por comuna de Chile tiene una gran variabilidad con un máximo de población para la comuna de Puente Alto de 645.909 habitantes y un mínimo de población para la comuna Antártica con 137 habitantes lo cual se entiende por lo inhóspito del clima. Lo otro que resalta que la mayoría de las comunas con mayor cantidad de habitantes están en la región Metropolitana. La comuna no perteneciente a la región metropolitana con mayor cantidad de habitantes es Antofagasta con 425.725 habitantes."
   ]
  },
  {
   "cell_type": "markdown",
   "metadata": {},
   "source": [
    "## Ejercicio 3\n",
    "\n",
    "(10 puntos)\n",
    "\n",
    "Mostrar evolución y comparación de los fallecimientos entre distintos grupos etáreos, pero que al mismo tiempo sea fácil identificar la cantidad de fallecidos total en cada fecha."
   ]
  },
  {
   "cell_type": "code",
   "execution_count": null,
   "metadata": {},
   "outputs": [],
   "source": [
    "fallecidos_etareo.head()"
   ]
  },
  {
   "cell_type": "code",
   "execution_count": null,
   "metadata": {},
   "outputs": [],
   "source": [
    "f_etarios=alt.Chart(fallecidos_etareo).mark_line().encode(   \n",
    "    x=alt.X('fecha', axis=alt.Axis(title='Fecha')),\n",
    "    y=alt.Y('fallecidos', axis=alt.Axis(title='Cantidad de Fallecidos')),\n",
    "    color=alt.Color('grupo_de_edad:N',legend=alt.Legend(title=\"Grupo Etareo\")), \n",
    "    tooltip=[\"grupo_de_edad\",\"fecha\",\"fallecidos\"]\n",
    ").properties(\n",
    "    width=1000, height=800\n",
    ").interactive()\n",
    "\n",
    "f_totales = alt.Chart(fallecidos_etareo).mark_line().encode(   \n",
    "    x=alt.X('fecha', axis=alt.Axis(title='Fecha')),#'fecha',\n",
    "    y=alt.Y('sum(fallecidos)', axis=alt.Axis(title='Cantidad de Fallecidos')),\n",
    "    color=alt.value('blue'),\n",
    "    tooltip=[\"fecha\",\"sum(fallecidos)\"]\n",
    ").properties(\n",
    "    width=1000,\n",
    "    height=800,\n",
    "    title=\"EVOLUCION DE FALLECIDOS A LA FECHA POR GRUPO ETAREO Y FALLECIDOS TOTALES (CURVA AZUL)\"\n",
    ").interactive()\n",
    "\n",
    "f_etarios + f_totales"
   ]
  },
  {
   "cell_type": "markdown",
   "metadata": {},
   "source": [
    "**Comentarios:** En este gráfico se puede observar la tendencia (o pendiente aproximada) de fallecidos por grupo etario es similar para los rangos de edad de 70 a 79, 80 a 89 y 60 a 69, con una pendiente mayor al resto de los grupos. Así también la tendencia o pendiente de evolución es similar para el rango de 50 a 59 y para mayores de 90 con una pendiente menor al rango anteriormente mencionado. Por último los grupos que tiene una pendiente similar entre si y menor al resto de los grupos son los de 0 a 39 y de 40 a 49. Con respecto a la curva de fallecidos totales podemos observar que las fechas con mayor aumento de fallecidos (pendiente) fueron los meses de junio y julio, lo cual también se refleja en las curvas para los grupos etarios. "
   ]
  },
  {
   "cell_type": "markdown",
   "metadata": {},
   "source": [
    "## Ejercicio 4\n",
    "\n",
    "(10 puntos)\n",
    "\n",
    "Mostrar en tres gráficos la evolución de casos confirmados, evolución de fallecimientos y evolución de casos activos."
   ]
  },
  {
   "cell_type": "code",
   "execution_count": null,
   "metadata": {},
   "outputs": [],
   "source": [
    "line1 = alt.Chart(confirmados).mark_line(color='blue').encode(\n",
    "    x=alt.X('fecha', axis=alt.Axis(title='Fecha')),#'fecha',\n",
    "    y=alt.Y('sum(casos_confirmados)', axis=alt.Axis(title='Casos confirmados')),\n",
    "    color=alt.value('#bcbd22'),\n",
    "    tooltip=['fecha','sum(casos_confirmados)'],\n",
    ").properties(\n",
    "    width=400,\n",
    "    height=300,\n",
    "    title=\"SERIE DE TIEMPO CASOS CASOS CONFIRMADOS A LA FECHA\"\n",
    ")\n",
    "\n",
    "line2 = alt.Chart(fallecidos).mark_line().encode(\n",
    "    x=alt.X('fecha', axis=alt.Axis(title='Fecha')),#'fecha',\n",
    "    y=alt.Y('sum(fallecidos)', axis=alt.Axis(title='Fallecidos')),\n",
    "    color=alt.value('#ad494a'),\n",
    ").properties(\n",
    "    width=400,\n",
    "    height=300,\n",
    "    title=\"SERIE DE TIEMPO CASOS FALLECIDOS A LA FECHA\"\n",
    ")\n",
    "\n",
    "line3 = alt.Chart(activos).mark_line().encode(\n",
    "    x=alt.X('fecha', axis=alt.Axis(title='Fecha')),\n",
    "    y=alt.Y('sum(casos_activos)', axis=alt.Axis(title='Casos Activos')),\n",
    "    color=alt.value('#1f77b4')\n",
    ").properties(\n",
    "    width=400,\n",
    "    height=300,\n",
    "    title=\"SERIE DE TIEMPO CASOS ACTIVOS A LA FECHA\"\n",
    ")\n",
    "\n",
    "(line1 | line2 | line3)"
   ]
  },
  {
   "cell_type": "markdown",
   "metadata": {},
   "source": [
    "**Comentarios:** Las curvas de los gráficos de casos confirmados y fallecidos tienen un comportamiento similar, observando una mayor pendiente en los meses de junio y julio. Con respecto al gráfico de los casos activos podemos observar el pick de la curva a finales del mes de junio con lo cual, a pesar de que la curva no tenga un comportamiento similar a los otros dos gráficos si podría existir una relación entre la cantidad de casos confirmados y el mayor aumento (mayor pendiente) de casos confirmados y fallecidos en el periodo cercano a esta fecha."
   ]
  },
  {
   "cell_type": "markdown",
   "metadata": {},
   "source": [
    "## Ejercicio 5\n",
    "\n",
    "(10 puntos)\n",
    "\n",
    "Comparar la tasa de incidencia entre las regiones a lo largo del tiempo."
   ]
  },
  {
   "cell_type": "code",
   "execution_count": null,
   "metadata": {},
   "outputs": [],
   "source": [
    "confir_tasa=confirmados.drop(['provincia_id','provincia','comuna_id','comuna'],axis=1).groupby(\n",
    "        [\"region\", \"fecha\"]).apply(lambda df: df[\"casos_confirmados\"].sum()/df[\"poblacion\"].sum()*100000).reset_index().rename(columns={  0 : 'tasa'})\n",
    "confir_tasa"
   ]
  },
  {
   "cell_type": "code",
   "execution_count": null,
   "metadata": {},
   "outputs": [],
   "source": [
    "alt.Chart(confir_tasa).mark_line().encode(\n",
    "    x=alt.X('fecha', axis=alt.Axis(title='Fecha')),\n",
    "    y=alt.Y('tasa', axis=alt.Axis(title='Tasa de incidencia')),\n",
    "    color=alt.Color('region:N',legend=alt.Legend(title=\"Regiones de Chile\"),scale=alt.Scale(scheme='tableau20')),\n",
    "    tooltip=['region','fecha','tasa'],\n",
    ").properties(\n",
    "    width=1200,\n",
    "    height=600,\n",
    "    title=\"SERIE DE TIEMPO DE TASA DE INCIDENCIA CASOS CONFIRMADOS POR REGION\"\n",
    ")"
   ]
  },
  {
   "cell_type": "markdown",
   "metadata": {},
   "source": [
    "**Comentarios:** En este gráfico es difícil analizar el comportamiento de la tasa de incidencia de casos confirmados por región ya que las curvas se entrecruzan entre sí en varias fechas lo que no lo hace muy agradable a la vista. Sin embargo, de forma general podemos observar el drástico aumento de la tasas de incidencia de casos confirmados en la región de Magallanes desde septiembre a la fecha. También se puede observar que en varias regiones ha tendido a estabilizarse la tasa de incidencia."
   ]
  },
  {
   "cell_type": "markdown",
   "metadata": {},
   "source": [
    "## Ejercicio 6\n",
    "\n",
    "(10 puntos)\n",
    "\n",
    "¿Hay alguna conclusión que puedas obtener rápidamente al graficar un _scatter plot_ con los casos confirmados y tasa de incidencia de cada comuna para los días 13 de abril y 6 de noviembre del 2020? Además, colorea cada punto según la región a la que pertenece y considera si es útil en el gráfico que el tamaño sea proporcional a la población."
   ]
  },
  {
   "cell_type": "code",
   "execution_count": null,
   "metadata": {},
   "outputs": [],
   "source": [
    "fecha1=confirmados.query( \"fecha == '2020-04-13'\" )\n",
    "\n",
    "casos=alt.Chart(fecha1).mark_point().encode(\n",
    "    x=alt.X('comuna', axis=alt.Axis(title='Comunas de Chile')),#'comuna',\n",
    "    y=alt.Y('casos_confirmados', axis=alt.Axis(title='Casos Confirmados (Point)')),#'casos_confirmados',\n",
    "    tooltip=['region','comuna','casos_confirmados'],\n",
    "    size='poblacion:Q',\n",
    "    color=alt.Color('region:N', scale=alt.Scale(scheme='tableau20'),legend=alt.Legend(title=\"Regiones de Chile\"))\n",
    ").properties(\n",
    "    width=5000,\n",
    "    height=600,\n",
    "    title=\"CASOS CONFIRMADOS Y TASA DE INCIDENCIA POR COMUNA PARA EL 13 DE ABRIL DEL 2020\"\n",
    ").interactive()\n",
    "\n",
    "tasa=alt.Chart(fecha1).mark_circle().encode(\n",
    "    x=alt.X('comuna', axis=alt.Axis(title='Comunas de Chile')),#'comuna',\n",
    "    y=alt.Y('tasa', axis=alt.Axis(title='Tasa de Incidencia (Circle)')),#'tasa',\n",
    "    tooltip=['region','comuna','tasa'],\n",
    "    size=alt.Color('poblacion:Q',legend=alt.Legend(title=\"Población\")), #'poblacion:Q',\n",
    "    color=alt.Color('region:N', scale=alt.Scale(scheme='tableau20'),legend=alt.Legend(title=\"Regiones de Chile\"))\n",
    ").properties(\n",
    "    width=5000,\n",
    "    height=600,\n",
    "    title=\"CASOS CONFIRMADOS Y TASA DE INCIDENCIA POR COMUNA PARA EL 13 DE ABRIL DEL 2020\"\n",
    ").interactive()\n",
    "\n",
    "tasa+casos"
   ]
  },
  {
   "cell_type": "code",
   "execution_count": null,
   "metadata": {},
   "outputs": [],
   "source": [
    "fecha2=confirmados.query( \"fecha == '2020-11-06'\" )\n",
    "\n",
    "casos=alt.Chart(fecha2).mark_point().encode(\n",
    "    x=alt.X('comuna', axis=alt.Axis(title='Comunas de Chile')),\n",
    "    y=alt.Y('casos_confirmados', axis=alt.Axis(title='Casos Confirmados (Point)')),\n",
    "    tooltip=['region','comuna','casos_confirmados'],\n",
    "    size=alt.value(100),\n",
    "    color=alt.Color('region:N', scale=alt.Scale(scheme='tableau20'))\n",
    "    \n",
    ").properties(\n",
    "    width=5000,\n",
    "    height=600,\n",
    "    title=\"CASOS CONFIRMADOS Y TASA DE INCIDENCIA POR COMUNA PARA EL 6 DE NOVIEMBRE DEL 2020\"\n",
    ")\n",
    "\n",
    "tasa=alt.Chart(fecha2).mark_circle().encode(\n",
    "    x=alt.X('comuna', axis=alt.Axis(title='Comunas de Chile')),#'comuna',\n",
    "    y=alt.Y('tasa', axis=alt.Axis(title='Tasa de Incidencia (Circle)')),#'tasa',\n",
    "    tooltip=['region','comuna','tasa'],\n",
    "    size=alt.value(100),\n",
    "    color=alt.Color('region:N', scale=alt.Scale(scheme='tableau20'),legend=alt.Legend(title=\"Regiones de Chile\"))\n",
    ").properties(\n",
    "    width=5000,\n",
    "    height=600,\n",
    "    title=\"CASOS CONFIRMADOS Y TASA DE INCIDENCIA POR COMUNA PARA EL 6 DE NOVIEMBRE DEL 2020\"\n",
    ")\n",
    "casos+tasa"
   ]
  },
  {
   "cell_type": "markdown",
   "metadata": {},
   "source": [
    "**Comentarios:** Para la primera fecha se dejó el tamaño del circulo en función de la población, esto tiene sus ventajas y desventajas. Una ventaja es que es más fácil identificar las comunas con una mayor población y analizar la tasa y casos confirmados de estas. Esto puede servir ya que las comunas con mayor población tienen un efecto mayor en el análisis como país. Con respecto a las desventajas es que hay comunas con poca población que no se observan adecuadamente en el gráfico y a las cuales si hay que ponerle atención debido a que algunas tienen una alta tasa de incidencia. \n",
    "Con respecto al gráfico para la segunda fecha se definió un mismo tamaño de Marks para todos los datos y se estableció los círculos para la tasa de incidencia y los puntos (huecos) para los casos confirmados, lo que hace un poco más fácil la visualización."
   ]
  },
  {
   "cell_type": "markdown",
   "metadata": {},
   "source": [
    "## Ejercicio 7\n",
    "\n",
    "(10 puntos)\n",
    "\n",
    "1. Grafica la evolución de los casos activos de cada comuna en un solo gráfico. \n",
    "2. Grafica la evolución de los casos activos de cada comuna en gráficos separados por región.\n",
    "\n",
    "Entrega los pros y contras de cada uno de estos enfoques."
   ]
  },
  {
   "cell_type": "code",
   "execution_count": null,
   "metadata": {},
   "outputs": [],
   "source": [
    "line1 = alt.Chart(activos).mark_line().encode(\n",
    "    x=alt.X('fecha', axis=alt.Axis(title='Fecha')),#'fecha',\n",
    "    y=alt.Y('casos_activos', axis=alt.Axis(title='Casos activos por comuna')),#'casos_activos',\n",
    "    color=alt.Color('comuna:N', scale=alt.Scale(scheme='spectral'),legend=alt.Legend(title=\"Comunas de Chile\")),#'comuna',\n",
    "    tooltip=['comuna','casos_activos']\n",
    ").properties(\n",
    "    width=1200,\n",
    "    height=800,\n",
    "    title=\"CASOS ACTIVOS POR COMUNAS DE CHILE\"\n",
    ")\n",
    "line1 "
   ]
  },
  {
   "cell_type": "code",
   "execution_count": null,
   "metadata": {},
   "outputs": [],
   "source": [
    "Arica_y_Parinacota=activos.query( \"region == 'Arica y Parinacota'\" )\n",
    "r1 = alt.Chart(Arica_y_Parinacota).mark_line().encode(x=alt.X('fecha', axis=alt.Axis(title='Fecha')), y=alt.Y('casos_activos', axis=alt.Axis(title='Casos activos por comuna')),color='comuna',tooltip=['comuna','casos_activos']).properties(\n",
    "    width=500,height=500,title=\"CASOS ACTIVOS REGION ARICA Y PARINACOTA\")\n",
    "\n",
    "Tarapaca=activos.query( \"region == 'Tarapaca'\" )\n",
    "r2 = alt.Chart(Tarapaca).mark_line().encode(x=alt.X('fecha', axis=alt.Axis(title='Fecha')), y=alt.Y('casos_activos', axis=alt.Axis(title='Casos activos por comuna')),color='comuna',tooltip=['comuna','casos_activos']).properties(\n",
    "    width=500,height=500,title=\"CASOS ACTIVOS REGION TARAPACA\")\n",
    "\n",
    "Antofagasta=activos.query( \"region == 'Antofagasta'\" )\n",
    "r3 = alt.Chart(Antofagasta).mark_line().encode(x=alt.X('fecha', axis=alt.Axis(title='Fecha')), y=alt.Y('casos_activos', axis=alt.Axis(title='Casos activos por comuna')),color='comuna',tooltip=['comuna','casos_activos']).properties(\n",
    "   width=500,height=500,title=\"CASOS ACTIVOS REGION ANTOFAGASTA\")\n",
    "\n",
    "Atacama=activos.query( \"region == 'Atacama'\" )\n",
    "r4 = alt.Chart(Atacama).mark_line().encode(x=alt.X('fecha', axis=alt.Axis(title='Fecha')), y=alt.Y('casos_activos', axis=alt.Axis(title='Casos activos por comuna')),color='comuna',tooltip=['comuna','casos_activos']).properties(\n",
    "    width=500,height=500,title=\"CASOS ACTIVOS REGION ATACAMA\")\n",
    "\n",
    "Coquimbo=activos.query( \"region == 'Coquimbo'\" )\n",
    "r5 = alt.Chart(Coquimbo).mark_line().encode(x=alt.X('fecha', axis=alt.Axis(title='Fecha')), y=alt.Y('casos_activos', axis=alt.Axis(title='Casos activos por comuna')),color='comuna',tooltip=['comuna','casos_activos']).properties(\n",
    "    width=500,height=500,title=\"CASOS ACTIVOS REGION COQUIMBO\")\n",
    "\n",
    "Valparaiso=activos.query( \"region == 'Valparaiso'\" )\n",
    "r6 = alt.Chart(Valparaiso).mark_line().encode(x=alt.X('fecha', axis=alt.Axis(title='Fecha')), y=alt.Y('casos_activos', axis=alt.Axis(title='Casos activos por comuna')),color='comuna',tooltip=['comuna','casos_activos']).properties(\n",
    "    width=500,height=500,title=\"CASOS ACTIVOS REGION VALPARAISO\")\n",
    "\n",
    "Metropolitana=activos.query( \"region == 'Metropolitana'\" )\n",
    "r7 = alt.Chart(Metropolitana).mark_line().encode(x=alt.X('fecha', axis=alt.Axis(title='Fecha')), y=alt.Y('casos_activos', axis=alt.Axis(title='Casos activos por comuna')),color='comuna',tooltip=['comuna','casos_activos']).properties(\n",
    "    width=500,height=500,title=\"CASOS ACTIVOS REGION METROPOLITANA\")\n",
    "\n",
    "Del_Libertador=activos.query( \"region == 'Del Libertador General Bernardo O’Higgins'\" )\n",
    "r8 = alt.Chart(Del_Libertador).mark_line().encode(x=alt.X('fecha', axis=alt.Axis(title='Fecha')), y=alt.Y('casos_activos', axis=alt.Axis(title='Casos activos por comuna')),color='comuna',tooltip=['comuna','casos_activos']).properties(\n",
    "    width=500,height=500,title=\"CASOS ACTIVOS REGION DEL LIBERTADOR BERNARDO O'HIGGINS\")\n",
    "\n",
    "Maule=activos.query( \"region == 'Maule'\" )\n",
    "r9 = alt.Chart(Maule).mark_line().encode(x=alt.X('fecha', axis=alt.Axis(title='Fecha')), y=alt.Y('casos_activos', axis=alt.Axis(title='Casos activos por comuna')),color='comuna',tooltip=['comuna','casos_activos']).properties(\n",
    "    width=500,height=500,title=\"CASOS ACTIVOS REGION DEL MAULE\")\n",
    "\n",
    "Nuble=activos.query( \"region == 'Nuble'\" )\n",
    "r10 = alt.Chart(Nuble).mark_line().encode(x=alt.X('fecha', axis=alt.Axis(title='Fecha')), y=alt.Y('casos_activos', axis=alt.Axis(title='Casos activos por comuna')),color='comuna',tooltip=['comuna','casos_activos']).properties(\n",
    "    width=500,height=500,title=\"CASOS ACTIVOS REGION DEL ÑUBLE\")\n",
    "\n",
    "Biobio=activos.query( \"region == 'Biobio'\" )\n",
    "r11 = alt.Chart(Biobio).mark_line().encode(x=alt.X('fecha', axis=alt.Axis(title='Fecha')), y=alt.Y('casos_activos', axis=alt.Axis(title='Casos activos por comuna')),color='comuna',tooltip=['comuna','casos_activos']).properties(\n",
    "    width=500,height=500,title=\"CASOS ACTIVOS REGION DEL BIOBIO\")\n",
    "\n",
    "La_Araucania=activos.query( \"region == 'La Araucania'\" )\n",
    "r12 = alt.Chart(La_Araucania).mark_line().encode(x=alt.X('fecha', axis=alt.Axis(title='Fecha')), y=alt.Y('casos_activos', axis=alt.Axis(title='Casos activos por comuna')),color='comuna',tooltip=['comuna','casos_activos']).properties(\n",
    "    width=500,height=500,title=\"CASOS ACTIVOS REGION DE LA ARAUCANIA\")\n",
    "\n",
    "Los_Rios=activos.query( \"region == 'Los Rios'\" )\n",
    "r13 = alt.Chart(Los_Rios).mark_line().encode(x=alt.X('fecha', axis=alt.Axis(title='Fecha')), y=alt.Y('casos_activos', axis=alt.Axis(title='Casos activos por comuna')),color='comuna',tooltip=['comuna','casos_activos']).properties(\n",
    "    width=500,height=500,title=\"CASOS ACTIVOS REGION DE LOS RIOS\")\n",
    "\n",
    "Los_Lagos=activos.query( \"region == 'Los Lagos'\" )\n",
    "r14 = alt.Chart(Los_Lagos).mark_line().encode(x=alt.X('fecha', axis=alt.Axis(title='Fecha')), y=alt.Y('casos_activos', axis=alt.Axis(title='Casos activos por comuna')),color='comuna',tooltip=['comuna','casos_activos']).properties(\n",
    "    width=500,height=500,title=\"CASOS ACTIVOS REGION DE LOS LAGOS\")\n",
    "\n",
    "Aysen=activos.query( \"region == 'Aysen'\" )\n",
    "r15 = alt.Chart(Aysen).mark_line().encode(x=alt.X('fecha', axis=alt.Axis(title='Fecha')), y=alt.Y('casos_activos', axis=alt.Axis(title='Casos activos por comuna')),color='comuna',tooltip=['comuna','casos_activos']).properties(\n",
    "    width=500,height=500,title=\"CASOS ACTIVOS REGION DE AYSEN\")\n",
    "\n",
    "Magallanes_Antartica=activos.query( \"region == 'Magallanes y la Antartica'\" )\n",
    "r16 = alt.Chart(Magallanes_Antartica).mark_line().encode(x=alt.X('fecha', axis=alt.Axis(title='Fecha')), y=alt.Y('casos_activos', axis=alt.Axis(title='Casos activos por comuna')),color='comuna',tooltip=['comuna','casos_activos']).properties(\n",
    "    width=500,height=500,title=\"CASOS ACTIVOS REGION DE MAGALLANES Y LA ANTARTICA\")\n",
    "\n"
   ]
  },
  {
   "cell_type": "code",
   "execution_count": null,
   "metadata": {},
   "outputs": [],
   "source": [
    "(r1 | r2 | r3) "
   ]
  },
  {
   "cell_type": "code",
   "execution_count": null,
   "metadata": {},
   "outputs": [],
   "source": [
    "(r4 | r5 | r6) "
   ]
  },
  {
   "cell_type": "code",
   "execution_count": null,
   "metadata": {},
   "outputs": [],
   "source": [
    "(r7 | r8 | r9) "
   ]
  },
  {
   "cell_type": "code",
   "execution_count": null,
   "metadata": {},
   "outputs": [],
   "source": [
    "(r10 | r11 | r12)"
   ]
  },
  {
   "cell_type": "code",
   "execution_count": null,
   "metadata": {},
   "outputs": [],
   "source": [
    "(r13 | r14 | r15) "
   ]
  },
  {
   "cell_type": "code",
   "execution_count": null,
   "metadata": {},
   "outputs": [],
   "source": [
    "r16"
   ]
  },
  {
   "cell_type": "markdown",
   "metadata": {},
   "source": [
    "**Comentarios:** Gráfico con todas las comunas, Pros: Lo bueno de este gráfico es que se pueden comparar comunas de distintas regiones y observar las que tiene más casos activos en función de la fecha. Contras: Al estar todas las comunas de Chile se hace casi imposible la visualización de cada comuna, sobre todo las que tiene cantidad de casos similares.\n",
    "Gráfico de las comunas por región, Pros: Tiene una mejor visualización de los casos activos por comuna de la región y es más fácil compararlas entre sí. Contras: No se puede comparar con comunas de otras regiones.\n"
   ]
  },
  {
   "cell_type": "markdown",
   "metadata": {},
   "source": [
    "## Ejercicio 8\n",
    "\n",
    "(10 puntos)\n",
    "\n",
    "Hacer un gráfico que permita comparar rápidamente entre regiones su promedio de casos activos , máximo de casos confirmados y fallecidos. Utiliza los valores reales y apoyarlos con colores.\n",
    "\n",
    "Se adjunta el diccionario `region_names` con tal de reemplazar los nombres de las regiones en los datos `fallecidos` para poder unir con los otros datos. "
   ]
  },
  {
   "cell_type": "code",
   "execution_count": null,
   "metadata": {},
   "outputs": [],
   "source": [
    "region_names = {\n",
    "    \"Araucanía\": \"La Araucanía\",\n",
    "    \"La Araucania\": \"La Araucanía\",\n",
    "    \"Aysén\": \"Aysén del General Carlos Ibáñez del Campo\",\n",
    "    \"Aysen\": \"Aysén del General Carlos Ibáñez del Campo\",\n",
    "    \"Magallanes\": \"Magallanes y de la Antártica Chilena\",\n",
    "    \"Magallanes y la Antartica\": \"Magallanes y de la Antártica Chilena\",\n",
    "    \"Metropolitana\": \"Metropolitana de Santiago\",\n",
    "    \"O’Higgins\": \"Libertador General Bernardo O'Higgins\",\n",
    "    \"Del Libertador General Bernardo O’Higgins\": \"Libertador General Bernardo O'Higgins\",\n",
    "    \"Biobio\": \"Biobío\",\n",
    "    \"Los Rios\": \"Los Ríos\",\n",
    "    \"Nuble\": \"Ñuble\",\n",
    "    \"Valparaiso\": \"Valparaíso\",\n",
    "    \"Tarapaca\": \"Tarapacá\"  \n",
    "}"
   ]
  },
  {
   "cell_type": "code",
   "execution_count": null,
   "metadata": {},
   "outputs": [],
   "source": [
    "activos=activos.assign(region=lambda x: x[\"region\"].map(region_names).fillna(x[\"region\"]))\n",
    "activos_region = (\n",
    "   activos.groupby([\"region\"])\n",
    "    .agg(\n",
    "        prom_activos=(\"casos_activos\", \"mean\"),        \n",
    "    )\n",
    ")"
   ]
  },
  {
   "cell_type": "code",
   "execution_count": null,
   "metadata": {},
   "outputs": [],
   "source": [
    "confirmados=confirmados.assign(region=lambda x: x[\"region\"].map(region_names).fillna(x[\"region\"]))\n",
    "max_confirm= (\n",
    "   confirmados.groupby([\"region\"])\n",
    "    .agg(\n",
    "        max_conf=(\"casos_confirmados\", \"max\"),\n",
    "        #attack_max=(\"attack\", \"max\")\n",
    "    )\n",
    ")"
   ]
  },
  {
   "cell_type": "code",
   "execution_count": null,
   "metadata": {},
   "outputs": [],
   "source": [
    "fallecidos=fallecidos.assign(region=lambda x: x[\"region\"].map(region_names).fillna(x[\"region\"]))\n",
    "max_fallec= (\n",
    "   fallecidos.groupby([\"region\"])\n",
    "    .agg(\n",
    "        max_fallec=(\"fallecidos\", \"max\"),\n",
    "        )\n",
    ").drop(['Total'],axis=0)"
   ]
  },
  {
   "cell_type": "code",
   "execution_count": null,
   "metadata": {},
   "outputs": [],
   "source": [
    "grafico=activos_region.merge(\n",
    "       max_confirm,\n",
    "       how=\"left\",\n",
    "       on=\"region\"\n",
    "    ).merge(\n",
    "        max_fallec,\n",
    "        how=\"left\",\n",
    "        on=\"region\"\n",
    "   ).reset_index()\n",
    "grafico"
   ]
  },
  {
   "cell_type": "code",
   "execution_count": null,
   "metadata": {},
   "outputs": [],
   "source": [
    "grafico1=alt.Chart(grafico).mark_point().encode(\n",
    "    x=alt.X('region', axis=alt.Axis(title='Región de Chile')),\n",
    "    y=alt.Y('prom_activos', axis=alt.Axis(title='Prom. Activos (Punto)')),\n",
    "    tooltip=['region','prom_activos'],\n",
    "    size=alt.value(70),\n",
    "    color=alt.Color('region:N', scale=alt.Scale(scheme='tableau20'),legend=alt.Legend(title=\"Regiones de Chile\")),\n",
    ")#.interactive()\n",
    "\n",
    "grafico2=alt.Chart(grafico).mark_circle().encode(\n",
    "    x=alt.X('region', axis=alt.Axis(title='Región de Chile')),#'region',\n",
    "    y=alt.Y('max_conf', axis=alt.Axis(title='Max. Confirmados (Circulo Grande)')),\n",
    "    tooltip=['region','max_conf'],\n",
    "    size=alt.value(170),\n",
    "    color=alt.Color('region:N', scale=alt.Scale(scheme='tableau20'),legend=alt.Legend(title=\"Regiones de Chile\")),\n",
    ")#.interactive()\n",
    "\n",
    "grafico3=alt.Chart(grafico).mark_circle().encode(\n",
    "    x=alt.X('region', axis=alt.Axis(title='Región de Chile')),\n",
    "    y=alt.Y('max_fallec', axis=alt.Axis(title='Max. Fallecidos (Circulo pequeño)')),\n",
    "    tooltip=['region','max_fallec'],\n",
    "    size=alt.value(70),\n",
    "    color=alt.Color('region:N', scale=alt.Scale(scheme='tableau20'),legend=alt.Legend(title=\"Regiones de Chile\")),\n",
    ")#.interactive()\n",
    "\n",
    "(grafico1+grafico2+grafico3).properties(\n",
    "    width=1000,\n",
    "    height=700,\n",
    "    title=\"PROMEDIO DE CASOS ACTIVOS, MAXIMO DE CASOS CONFIRMADOS Y MAXIMO DE FALLECIDOS POR REGION\"\n",
    ")\n"
   ]
  },
  {
   "cell_type": "markdown",
   "metadata": {},
   "source": [
    "**Comentarios:** Este es un buen grafico para comparar entre regiones los promedios de casos activos, máximo de casos confirmados y fallecidos. Se identificó el promedio de casos activos con un punto hueco, el máximo de casos confirmados con un circulo grande y el máximo de fallecidos con un circulo pequeño para ayudar a una mejor visualización."
   ]
  },
  {
   "cell_type": "markdown",
   "metadata": {},
   "source": [
    "## Ejercicio 9\n",
    "\n",
    "\n",
    "En este ejercicio buscaremos realizar un mini-dashboard respecto al estado de los casos de COVID-19 en Chile, por lo tanto utilizaremos haremos uso de datos geográficos de manera operacional (es decir, no nos preocuparemos de proyecciones en mapas ni nada por el estilo), lo único es que debes instalar `geopandas` en tu ambiente virtual y no olvidar actualizarlo en tu `environment.yml` para luego subirlo a tu repositorio de GitHub.\n",
    "\n",
    "Con tu ambiente activo (`conda activate mat281`) basta con ejecutar `conda install -c conda-forge geopandas` para instalar `geopandas`."
   ]
  },
  {
   "cell_type": "code",
   "execution_count": null,
   "metadata": {},
   "outputs": [],
   "source": [
    "import geopandas as gpd   # instalar geopandas, agregarlo en enviroment\n",
    "from pathlib import Path\n"
   ]
  },
  {
   "cell_type": "code",
   "execution_count": null,
   "metadata": {},
   "outputs": [],
   "source": [
    "shp_filepath = Path().resolve().parent / \"data\" / \"regiones_chile.shp\"\n",
    "regiones = gpd.read_file(shp_filepath)\n",
    "regiones.head()"
   ]
  },
  {
   "cell_type": "markdown",
   "metadata": {},
   "source": [
    "Lo único que tienes que saber es que un `GeoDataFrame` es idéntico a un `DataFrame` salvo que debe poseer una columna llamada `geometry` caracterice los elementros geométricos, que en este casos son polígonos con los límites de las regiones de Chile. \n",
    "\n",
    "Para graficar mapas en Altair se debe usar `mark_geoshape`, además, para no preocuparnos de las proyecciones si o si debes declarar lo siguiente que se muestra en la siguiente celda en las propiedades del gráfico. El resto es igual a cualquier otro gráfico de Altair."
   ]
  },
  {
   "cell_type": "code",
   "execution_count": null,
   "metadata": {},
   "outputs": [],
   "source": [
    "alt.Chart(regiones).mark_geoshape().encode(\n",
    ").properties(\n",
    "    projection={'type': 'identity', 'reflectY': True}, # mapea en el mapa bidimensional\n",
    "    width=250,\n",
    "    height=600\n",
    ")"
   ]
  },
  {
   "cell_type": "markdown",
   "metadata": {},
   "source": [
    "### Ejercicio 9.1\n",
    "\n",
    "(10 puntos)\n",
    "\n",
    "Define el `DataFrame` con el nombre `casos_geo` tal que tenga las columnas\n",
    "\n",
    "* `region`\n",
    "* `codigo_region`\n",
    "* `fecha`\n",
    "* `poblacion`\n",
    "* `casos_confirmados`\n",
    "* `tasa`\n",
    "* `casos_activos`\n",
    "* `fallecidos`\n",
    "* `geometry`\n",
    "\n",
    "Ten mucho cuidado como unes los dataframes `confirmados`, `activos`, `fallecidos` y `regiones`. Idealmente utilizar el código de región, pero en caso que no se encuentren disponibles utilizar el nombre de la región (no olivdar utilizar el diccionario `region_names`)."
   ]
  },
  {
   "cell_type": "code",
   "execution_count": null,
   "metadata": {},
   "outputs": [],
   "source": [
    "confirmados1=confirmados.groupby([\"region\", \"fecha\"]).agg(\n",
    "        poblacion=(\"poblacion\", \"sum\"),\n",
    "        codigo_region=(\"region_id\", \"mean\"),\n",
    "        casos_confirmados=(\"casos_confirmados\", \"sum\"),\n",
    "        ).reset_index()\n",
    "confirmados2=confirmados.drop(['provincia_id','provincia','comuna_id','comuna'],axis=1).groupby(\n",
    "        [\"region\", \"fecha\"]).apply(lambda df: df[\"casos_confirmados\"].sum()/df[\"poblacion\"].sum()*100000).reset_index().rename(columns={  0 : 'tasa'})\n",
    "confirmados_f=confirmados1.merge(confirmados2,how='right', on=['region', 'fecha']).replace({'poblacion': 82295.0}, 107297.0)"
   ]
  },
  {
   "cell_type": "code",
   "execution_count": null,
   "metadata": {},
   "outputs": [],
   "source": [
    "activos=activos.assign(region=lambda x: x[\"region\"].map(region_names).fillna(x[\"region\"]))\n",
    "activos1=activos.groupby([\"region\", \"fecha\"]).agg(\n",
    "        poblacion=(\"poblacion\", \"sum\"),\n",
    "        codigo_region=(\"codigo_region\", \"max\"),\n",
    "        casos_activos=(\"casos_activos\", \"sum\"),\n",
    "        ).reset_index()"
   ]
  },
  {
   "cell_type": "code",
   "execution_count": null,
   "metadata": {},
   "outputs": [],
   "source": [
    "conf_act=confirmados_f.merge(activos1,how='inner', on=['region', 'fecha','poblacion','codigo_region'])"
   ]
  },
  {
   "cell_type": "code",
   "execution_count": null,
   "metadata": {},
   "outputs": [],
   "source": [
    "fallecidos=fallecidos.assign(region=lambda x: x[\"region\"].map(region_names).fillna(x[\"region\"]))\n",
    "fallec= (\n",
    "   fallecidos.groupby([\"region\",\"fecha\"])\n",
    "    .agg(\n",
    "        fallecidos=(\"fallecidos\", \"max\"),\n",
    "        )\n",
    ").drop(['Total'],axis=0).reset_index()"
   ]
  },
  {
   "cell_type": "code",
   "execution_count": null,
   "metadata": {},
   "outputs": [],
   "source": [
    "conf_act_fall=conf_act.merge(fallec,how='inner', on=['region', 'fecha'])"
   ]
  },
  {
   "cell_type": "code",
   "execution_count": null,
   "metadata": {},
   "outputs": [],
   "source": [
    "region_names1 = {\n",
    "    \"Región Metropolitana de Santiago\": \"Metropolitana de Santiago\",\n",
    "    \"Región de Antofagasta\": \"Antofagasta\",\n",
    "    \"Región de Arica y Parinacota\": \"Arica y Parinacota\",\n",
    "    \"Región de Atacama\": \"Atacama\",\n",
    "    \"Región de Aysén del Gral.Ibañez del Campo\": \"Aysén del General Carlos Ibáñez del Campo\",\n",
    "    \"Región de Coquimbo\": \"Coquimbo\",\n",
    "    \"Región de La Araucanía\": \"La Araucanía\",\n",
    "    \"Región de Los Lagos\": \"Los Lagos\",\n",
    "    \"Región de Los Ríos\": \"Los Ríos\",\n",
    "    \"Región de Magallanes y Antártica Chilena\": \"Magallanes y de la Antártica Chilena\",\n",
    "    \"Región de Tarapacá\": \"Tarapacá\",\n",
    "    \"Región de Valparaíso\": \"Valparaíso\",\n",
    "    \"Región de Ñuble\": \"Ñuble\",\n",
    "    \"Región del Bío-Bío\": \"Biobío\",\n",
    "    \"Región del Libertador Bernardo O'Higgins\": \"Libertador General Bernardo O'Higgins\",\n",
    "    \"Región del Maule\": \"Maule\"\n",
    "}\n",
    "    \n",
    "regiones1=regiones.drop(['objectid','objectid','cir_sena','codregion','area_km','st_area_sh','st_length_'],axis=1).rename(\n",
    "columns={'Region':'region'}).assign(region=lambda x: x[\"region\"].map(region_names1).fillna(x[\"region\"]))"
   ]
  },
  {
   "cell_type": "code",
   "execution_count": null,
   "metadata": {},
   "outputs": [],
   "source": [
    "casos_geo = (conf_act_fall.merge(regiones1,how='inner', on=['region'])).sort_values([\"codigo_region\",\"fecha\"])"
   ]
  },
  {
   "cell_type": "markdown",
   "metadata": {},
   "source": [
    "Ejecuta lo siguiente para convertir el DataFrame anterior en un GeoDataFrames"
   ]
  },
  {
   "cell_type": "code",
   "execution_count": null,
   "metadata": {},
   "outputs": [],
   "source": [
    "casos_geo = casos_geo.pipe(lambda x: gpd.GeoDataFrame(x, geometry=\"geometry\"))\n",
    "casos_geo#.dtypes"
   ]
  },
  {
   "cell_type": "markdown",
   "metadata": {},
   "source": [
    "### Ejercicio 9.2\n",
    "\n",
    "(5 puntos)\n",
    "\n",
    "Modifica la función `covid_chile_chart` tal que reciba una fecha y una columna. Luego, debe filtrar `casos_geo` con registros de la fecha seleccionada y graficar un mapa donde las regiones se colereen según la columna escogida. "
   ]
  },
  {
   "cell_type": "code",
   "execution_count": null,
   "metadata": {},
   "outputs": [],
   "source": [
    "def covid_chile_chart(fecha, col):\n",
    "    \n",
    "    fecha = pd.to_datetime(fecha)\n",
    "    data = casos_geo.loc[lambda x: x[\"fecha\"] == fecha]#[# FIX ME #\n",
    "    \n",
    "    chart = alt.Chart(data).mark_geoshape().encode(\n",
    "        color=col# FIX ME #\n",
    "        ).properties(\n",
    "        projection={'type': 'identity', 'reflectY': True},\n",
    "        width=250,\n",
    "        height=600\n",
    "    )\n",
    "    \n",
    "    chart.display()\n",
    "    return"
   ]
  },
  {
   "cell_type": "markdown",
   "metadata": {},
   "source": [
    "Prueba con lo siguiente"
   ]
  },
  {
   "cell_type": "code",
   "execution_count": null,
   "metadata": {},
   "outputs": [],
   "source": [
    "fecha = \"2020-04-13\"\n",
    "col = \"tasa\"\n",
    "covid_chile_chart(fecha, col)"
   ]
  },
  {
   "cell_type": "markdown",
   "metadata": {},
   "source": [
    "### Ejercicio 9.3\n",
    "\n",
    "(5 puntos)\n",
    "\n",
    "Ahora utilizando `widgets` generaremos el dashboard interactivo. Define lo siguiente:\n",
    "\n",
    "* col_widget: Un `widgets.Dropdown` donde las opciones a seleccionar sean las columnas `poblacion`, `casos_confirmados`, `tasa`, `casos_activos` y `fallecidos`. Además, el argumento `description` debe ser `Columna`.\n",
    "* fecha_widget: Un `widgets.DatePicker` donde el argumento `description` sea `Fecha`.\n",
    "* Ambos widgets deben tener el argumento `continuous_update=False`"
   ]
  },
  {
   "cell_type": "code",
   "execution_count": null,
   "metadata": {},
   "outputs": [],
   "source": [
    "from ipywidgets import interactive, fixed\n",
    "import ipywidgets as widgets\n",
    "from ipywidgets import interactive, interact\n",
    "from ipywidgets import interact, interactive, fixed, interact_manual\n",
    "from IPython.display import display"
   ]
  },
  {
   "cell_type": "code",
   "execution_count": null,
   "metadata": {},
   "outputs": [],
   "source": [
    "col_widget = widgets.Dropdown(options=[\"poblacion\",\"casos_confirmados\",\"tasa\",\"casos_activos\",\"fallecidos\"]\n",
    "                              ,description='COLUMNA',continuous_update=False)                        "
   ]
  },
  {
   "cell_type": "code",
   "execution_count": null,
   "metadata": {},
   "outputs": [],
   "source": [
    "fecha_widget = widgets.DatePicker(description='FECHA',continuous_update=False)"
   ]
  },
  {
   "cell_type": "markdown",
   "metadata": {},
   "source": [
    "Finalmente, haciendo uso de `interactive`, la función `covid_chile_chart` y todos los widgets es posible crear un _dashboard_ interactivo con los datos de Covid-19.\n",
    "\n",
    "Respira profundo y explora tu creación!"
   ]
  },
  {
   "cell_type": "code",
   "execution_count": null,
   "metadata": {},
   "outputs": [],
   "source": [
    "covid_dashboard = interactive(covid_chile_chart,fecha=fecha_widget,col=col_widget)\n",
    "covid_dashboard"
   ]
  },
  {
   "cell_type": "markdown",
   "metadata": {},
   "source": [
    "**Comentarios:** Esta es una herramienta muy útil que ayuda a visualizar en un mapa de Chile como está distribuida la población por regiones. Así también, ayuda a identificar visualmente por fechas el comportamiento de las regiones en cuanto a casos confirmados, tasa de incidencia, casos activos y fallecidos. Esto sería muy útil para realizar estudios donde los resultados puedan ser apoyados con esta herramienta."
   ]
  }
 ],
 "metadata": {
  "kernelspec": {
   "display_name": "Python 3",
   "language": "python",
   "name": "python3"
  },
  "language_info": {
   "codemirror_mode": {
    "name": "ipython",
    "version": 3
   },
   "file_extension": ".py",
   "mimetype": "text/x-python",
   "name": "python",
   "nbconvert_exporter": "python",
   "pygments_lexer": "ipython3",
   "version": "3.7.8"
  }
 },
 "nbformat": 4,
 "nbformat_minor": 4
}
